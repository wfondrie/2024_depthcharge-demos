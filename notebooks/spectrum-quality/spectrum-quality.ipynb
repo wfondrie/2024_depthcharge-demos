{
 "cells": [
  {
   "cell_type": "markdown",
   "id": "c1da4cec-15ba-4d28-a524-a0be61978539",
   "metadata": {},
   "source": [
    "# Spectrum Quality Prediction\n",
    "\n",
    "In this vignette, we will use Depthcharge to predict the \"quality\" of a tandem mass spectrum; that is, the likelihood that a each tandem mass spectrum will be identified during a database search.\n",
    "To do so, we will download a subset of files that were used to construct MassIVE-KB using PPX and perform a database search against the human proteome with Sage. \n",
    "Spectra that are matched to a peptide below 1% FDR will be labeled as high-quality, wereas spectra that failed to be matched will be annotated as low-quality for the purposes of our classifier.\n",
    "\n",
    "This vignette is intended to run on Google Colab using a GPU instance."
   ]
  },
  {
   "cell_type": "markdown",
   "id": "0508941b-e96d-42b3-a999-fac2d94503bc",
   "metadata": {},
   "source": [
    "## Install Dependencies\n",
    "\n",
    "First we install PPX, Depthcharge and Polars, which we'll use in these analyses:"
   ]
  },
  {
   "cell_type": "code",
   "execution_count": 1,
   "id": "82e54f44-382d-409b-a13e-4d0a429f7c4f",
   "metadata": {
    "scrolled": true
   },
   "outputs": [
    {
     "name": "stdout",
     "output_type": "stream",
     "text": [
      "Requirement already satisfied: polars in ./env/lib/python3.10/site-packages (0.20.22)\n",
      "Requirement already satisfied: lightning in ./env/lib/python3.10/site-packages (2.2.3)\n",
      "Requirement already satisfied: seaborn in ./env/lib/python3.10/site-packages (0.13.2)\n",
      "Requirement already satisfied: torchmetrics in ./env/lib/python3.10/site-packages (1.3.2)\n",
      "Requirement already satisfied: ppx in ./env/lib/python3.10/site-packages (1.4.1.dev3+g40e869a.d20240425)\n",
      "Requirement already satisfied: xgboost in ./env/lib/python3.10/site-packages (2.0.3)\n",
      "Requirement already satisfied: scikit-learn in ./env/lib/python3.10/site-packages (1.4.2)\n",
      "Requirement already satisfied: depthcharge-ms in ./env/lib/python3.10/site-packages (0.4.3.dev3+g9abe83b)\n",
      "Requirement already satisfied: PyYAML<8.0,>=5.4 in ./env/lib/python3.10/site-packages (from lightning) (6.0.1)\n",
      "Requirement already satisfied: fsspec<2025.0,>=2022.5.0 in ./env/lib/python3.10/site-packages (from fsspec[http]<2025.0,>=2022.5.0->lightning) (2024.3.1)\n",
      "Requirement already satisfied: lightning-utilities<2.0,>=0.8.0 in ./env/lib/python3.10/site-packages (from lightning) (0.11.2)\n",
      "Requirement already satisfied: numpy<3.0,>=1.17.2 in ./env/lib/python3.10/site-packages (from lightning) (1.26.4)\n",
      "Requirement already satisfied: packaging<25.0,>=20.0 in ./env/lib/python3.10/site-packages (from lightning) (24.0)\n",
      "Requirement already satisfied: torch<4.0,>=1.13.0 in ./env/lib/python3.10/site-packages (from lightning) (2.3.0)\n",
      "Requirement already satisfied: tqdm<6.0,>=4.57.0 in ./env/lib/python3.10/site-packages (from lightning) (4.66.2)\n",
      "Requirement already satisfied: typing-extensions<6.0,>=4.4.0 in ./env/lib/python3.10/site-packages (from lightning) (4.11.0)\n",
      "Requirement already satisfied: pytorch-lightning in ./env/lib/python3.10/site-packages (from lightning) (2.2.3)\n",
      "Requirement already satisfied: pandas>=1.2 in ./env/lib/python3.10/site-packages (from seaborn) (2.2.2)\n",
      "Requirement already satisfied: matplotlib!=3.6.1,>=3.4 in ./env/lib/python3.10/site-packages (from seaborn) (3.8.4)\n",
      "Requirement already satisfied: requests>=2.23.0 in ./env/lib/python3.10/site-packages (from ppx) (2.31.0)\n",
      "Requirement already satisfied: cloudpathlib>=0.7.1 in ./env/lib/python3.10/site-packages (from cloudpathlib[all]>=0.7.1->ppx) (0.18.1)\n",
      "Requirement already satisfied: scipy in ./env/lib/python3.10/site-packages (from xgboost) (1.13.0)\n",
      "Requirement already satisfied: joblib>=1.2.0 in ./env/lib/python3.10/site-packages (from scikit-learn) (1.4.0)\n",
      "Requirement already satisfied: threadpoolctl>=2.0.0 in ./env/lib/python3.10/site-packages (from scikit-learn) (3.4.0)\n",
      "Requirement already satisfied: pyarrow>=12.0.1 in ./env/lib/python3.10/site-packages (from depthcharge-ms) (15.0.0)\n",
      "Requirement already satisfied: pylance>=0.7.5 in ./env/lib/python3.10/site-packages (from depthcharge-ms) (0.10.15)\n",
      "Requirement already satisfied: pyteomics>=4.4.2 in ./env/lib/python3.10/site-packages (from depthcharge-ms) (4.7.1)\n",
      "Requirement already satisfied: numba>=0.48.0 in ./env/lib/python3.10/site-packages (from depthcharge-ms) (0.59.1)\n",
      "Requirement already satisfied: lxml>=4.9.1 in ./env/lib/python3.10/site-packages (from depthcharge-ms) (5.2.1)\n",
      "Requirement already satisfied: einops>=0.4.1 in ./env/lib/python3.10/site-packages (from depthcharge-ms) (0.7.0)\n",
      "Requirement already satisfied: lark>=1.1.4 in ./env/lib/python3.10/site-packages (from depthcharge-ms) (1.1.9)\n",
      "Requirement already satisfied: selfies>=2.1.1 in ./env/lib/python3.10/site-packages (from depthcharge-ms) (2.1.1)\n",
      "Requirement already satisfied: sortedcontainers>=2.4.0 in ./env/lib/python3.10/site-packages (from depthcharge-ms) (2.4.0)\n",
      "Requirement already satisfied: dill>=0.3.6 in ./env/lib/python3.10/site-packages (from depthcharge-ms) (0.3.8)\n",
      "Requirement already satisfied: rdkit>=2023.03.1 in ./env/lib/python3.10/site-packages (from depthcharge-ms) (2023.9.5)\n",
      "Requirement already satisfied: pillow>=9.4.0 in ./env/lib/python3.10/site-packages (from depthcharge-ms) (10.3.0)\n",
      "Requirement already satisfied: spectrum-utils>=0.4.1 in ./env/lib/python3.10/site-packages (from depthcharge-ms) (0.4.2)\n",
      "Requirement already satisfied: aiohttp!=4.0.0a0,!=4.0.0a1 in ./env/lib/python3.10/site-packages (from fsspec[http]<2025.0,>=2022.5.0->lightning) (3.9.5)\n",
      "Requirement already satisfied: setuptools in ./env/lib/python3.10/site-packages (from lightning-utilities<2.0,>=0.8.0->lightning) (69.5.1)\n",
      "Requirement already satisfied: contourpy>=1.0.1 in ./env/lib/python3.10/site-packages (from matplotlib!=3.6.1,>=3.4->seaborn) (1.2.1)\n",
      "Requirement already satisfied: cycler>=0.10 in ./env/lib/python3.10/site-packages (from matplotlib!=3.6.1,>=3.4->seaborn) (0.12.1)\n",
      "Requirement already satisfied: fonttools>=4.22.0 in ./env/lib/python3.10/site-packages (from matplotlib!=3.6.1,>=3.4->seaborn) (4.51.0)\n",
      "Requirement already satisfied: kiwisolver>=1.3.1 in ./env/lib/python3.10/site-packages (from matplotlib!=3.6.1,>=3.4->seaborn) (1.4.5)\n",
      "Requirement already satisfied: pyparsing>=2.3.1 in ./env/lib/python3.10/site-packages (from matplotlib!=3.6.1,>=3.4->seaborn) (3.1.2)\n",
      "Requirement already satisfied: python-dateutil>=2.7 in ./env/lib/python3.10/site-packages (from matplotlib!=3.6.1,>=3.4->seaborn) (2.9.0)\n",
      "Requirement already satisfied: llvmlite<0.43,>=0.42.0dev0 in ./env/lib/python3.10/site-packages (from numba>=0.48.0->depthcharge-ms) (0.42.0)\n",
      "Requirement already satisfied: pytz>=2020.1 in ./env/lib/python3.10/site-packages (from pandas>=1.2->seaborn) (2024.1)\n",
      "Requirement already satisfied: tzdata>=2022.7 in ./env/lib/python3.10/site-packages (from pandas>=1.2->seaborn) (2024.1)\n",
      "Requirement already satisfied: charset-normalizer<4,>=2 in ./env/lib/python3.10/site-packages (from requests>=2.23.0->ppx) (3.3.2)\n",
      "Requirement already satisfied: idna<4,>=2.5 in ./env/lib/python3.10/site-packages (from requests>=2.23.0->ppx) (3.7)\n",
      "Requirement already satisfied: urllib3<3,>=1.21.1 in ./env/lib/python3.10/site-packages (from requests>=2.23.0->ppx) (2.2.1)\n",
      "Requirement already satisfied: certifi>=2017.4.17 in ./env/lib/python3.10/site-packages (from requests>=2.23.0->ppx) (2024.2.2)\n",
      "Requirement already satisfied: appdirs in ./env/lib/python3.10/site-packages (from spectrum-utils>=0.4.1->depthcharge-ms) (1.4.4)\n",
      "Requirement already satisfied: fastobo in ./env/lib/python3.10/site-packages (from spectrum-utils>=0.4.1->depthcharge-ms) (0.12.3)\n",
      "Requirement already satisfied: filelock in ./env/lib/python3.10/site-packages (from torch<4.0,>=1.13.0->lightning) (3.13.4)\n",
      "Requirement already satisfied: sympy in ./env/lib/python3.10/site-packages (from torch<4.0,>=1.13.0->lightning) (1.12)\n",
      "Requirement already satisfied: networkx in ./env/lib/python3.10/site-packages (from torch<4.0,>=1.13.0->lightning) (3.3)\n",
      "Requirement already satisfied: jinja2 in ./env/lib/python3.10/site-packages (from torch<4.0,>=1.13.0->lightning) (3.1.3)\n",
      "Requirement already satisfied: aiosignal>=1.1.2 in ./env/lib/python3.10/site-packages (from aiohttp!=4.0.0a0,!=4.0.0a1->fsspec[http]<2025.0,>=2022.5.0->lightning) (1.3.1)\n",
      "Requirement already satisfied: attrs>=17.3.0 in ./env/lib/python3.10/site-packages (from aiohttp!=4.0.0a0,!=4.0.0a1->fsspec[http]<2025.0,>=2022.5.0->lightning) (23.2.0)\n",
      "Requirement already satisfied: frozenlist>=1.1.1 in ./env/lib/python3.10/site-packages (from aiohttp!=4.0.0a0,!=4.0.0a1->fsspec[http]<2025.0,>=2022.5.0->lightning) (1.4.1)\n",
      "Requirement already satisfied: multidict<7.0,>=4.5 in ./env/lib/python3.10/site-packages (from aiohttp!=4.0.0a0,!=4.0.0a1->fsspec[http]<2025.0,>=2022.5.0->lightning) (6.0.5)\n",
      "Requirement already satisfied: yarl<2.0,>=1.0 in ./env/lib/python3.10/site-packages (from aiohttp!=4.0.0a0,!=4.0.0a1->fsspec[http]<2025.0,>=2022.5.0->lightning) (1.9.4)\n",
      "Requirement already satisfied: async-timeout<5.0,>=4.0 in ./env/lib/python3.10/site-packages (from aiohttp!=4.0.0a0,!=4.0.0a1->fsspec[http]<2025.0,>=2022.5.0->lightning) (4.0.3)\n",
      "Requirement already satisfied: six>=1.5 in ./env/lib/python3.10/site-packages (from python-dateutil>=2.7->matplotlib!=3.6.1,>=3.4->seaborn) (1.16.0)\n",
      "Requirement already satisfied: azure-storage-blob>=12 in ./env/lib/python3.10/site-packages (from cloudpathlib>=0.7.1->cloudpathlib[all]>=0.7.1->ppx) (12.19.1)\n",
      "Requirement already satisfied: google-cloud-storage in ./env/lib/python3.10/site-packages (from cloudpathlib>=0.7.1->cloudpathlib[all]>=0.7.1->ppx) (2.16.0)\n",
      "Requirement already satisfied: boto3 in ./env/lib/python3.10/site-packages (from cloudpathlib>=0.7.1->cloudpathlib[all]>=0.7.1->ppx) (1.34.91)\n",
      "Requirement already satisfied: MarkupSafe>=2.0 in ./env/lib/python3.10/site-packages (from jinja2->torch<4.0,>=1.13.0->lightning) (2.1.5)\n",
      "Requirement already satisfied: mpmath>=0.19 in ./env/lib/python3.10/site-packages (from sympy->torch<4.0,>=1.13.0->lightning) (1.3.0)\n",
      "Requirement already satisfied: azure-core<2.0.0,>=1.28.0 in ./env/lib/python3.10/site-packages (from azure-storage-blob>=12->cloudpathlib>=0.7.1->cloudpathlib[all]>=0.7.1->ppx) (1.30.1)\n",
      "Requirement already satisfied: cryptography>=2.1.4 in ./env/lib/python3.10/site-packages (from azure-storage-blob>=12->cloudpathlib>=0.7.1->cloudpathlib[all]>=0.7.1->ppx) (42.0.5)\n",
      "Requirement already satisfied: isodate>=0.6.1 in ./env/lib/python3.10/site-packages (from azure-storage-blob>=12->cloudpathlib>=0.7.1->cloudpathlib[all]>=0.7.1->ppx) (0.6.1)\n",
      "Requirement already satisfied: botocore<1.35.0,>=1.34.91 in ./env/lib/python3.10/site-packages (from boto3->cloudpathlib>=0.7.1->cloudpathlib[all]>=0.7.1->ppx) (1.34.91)\n",
      "Requirement already satisfied: jmespath<2.0.0,>=0.7.1 in ./env/lib/python3.10/site-packages (from boto3->cloudpathlib>=0.7.1->cloudpathlib[all]>=0.7.1->ppx) (1.0.1)\n",
      "Requirement already satisfied: s3transfer<0.11.0,>=0.10.0 in ./env/lib/python3.10/site-packages (from boto3->cloudpathlib>=0.7.1->cloudpathlib[all]>=0.7.1->ppx) (0.10.1)\n",
      "Requirement already satisfied: google-auth<3.0dev,>=2.26.1 in ./env/lib/python3.10/site-packages (from google-cloud-storage->cloudpathlib>=0.7.1->cloudpathlib[all]>=0.7.1->ppx) (2.29.0)\n",
      "Requirement already satisfied: google-api-core<3.0.0dev,>=2.15.0 in ./env/lib/python3.10/site-packages (from google-cloud-storage->cloudpathlib>=0.7.1->cloudpathlib[all]>=0.7.1->ppx) (2.18.0)\n",
      "Requirement already satisfied: google-cloud-core<3.0dev,>=2.3.0 in ./env/lib/python3.10/site-packages (from google-cloud-storage->cloudpathlib>=0.7.1->cloudpathlib[all]>=0.7.1->ppx) (2.4.1)\n",
      "Requirement already satisfied: google-resumable-media>=2.6.0 in ./env/lib/python3.10/site-packages (from google-cloud-storage->cloudpathlib>=0.7.1->cloudpathlib[all]>=0.7.1->ppx) (2.7.0)\n",
      "Requirement already satisfied: google-crc32c<2.0dev,>=1.0 in ./env/lib/python3.10/site-packages (from google-cloud-storage->cloudpathlib>=0.7.1->cloudpathlib[all]>=0.7.1->ppx) (1.5.0)\n",
      "Requirement already satisfied: cffi>=1.12 in ./env/lib/python3.10/site-packages (from cryptography>=2.1.4->azure-storage-blob>=12->cloudpathlib>=0.7.1->cloudpathlib[all]>=0.7.1->ppx) (1.16.0)\n",
      "Requirement already satisfied: googleapis-common-protos<2.0.dev0,>=1.56.2 in ./env/lib/python3.10/site-packages (from google-api-core<3.0.0dev,>=2.15.0->google-cloud-storage->cloudpathlib>=0.7.1->cloudpathlib[all]>=0.7.1->ppx) (1.63.0)\n",
      "Requirement already satisfied: protobuf!=3.20.0,!=3.20.1,!=4.21.0,!=4.21.1,!=4.21.2,!=4.21.3,!=4.21.4,!=4.21.5,<5.0.0.dev0,>=3.19.5 in ./env/lib/python3.10/site-packages (from google-api-core<3.0.0dev,>=2.15.0->google-cloud-storage->cloudpathlib>=0.7.1->cloudpathlib[all]>=0.7.1->ppx) (4.25.3)\n",
      "Requirement already satisfied: proto-plus<2.0.0dev,>=1.22.3 in ./env/lib/python3.10/site-packages (from google-api-core<3.0.0dev,>=2.15.0->google-cloud-storage->cloudpathlib>=0.7.1->cloudpathlib[all]>=0.7.1->ppx) (1.23.0)\n",
      "Requirement already satisfied: cachetools<6.0,>=2.0.0 in ./env/lib/python3.10/site-packages (from google-auth<3.0dev,>=2.26.1->google-cloud-storage->cloudpathlib>=0.7.1->cloudpathlib[all]>=0.7.1->ppx) (5.3.3)\n",
      "Requirement already satisfied: pyasn1-modules>=0.2.1 in ./env/lib/python3.10/site-packages (from google-auth<3.0dev,>=2.26.1->google-cloud-storage->cloudpathlib>=0.7.1->cloudpathlib[all]>=0.7.1->ppx) (0.4.0)\n",
      "Requirement already satisfied: rsa<5,>=3.1.4 in ./env/lib/python3.10/site-packages (from google-auth<3.0dev,>=2.26.1->google-cloud-storage->cloudpathlib>=0.7.1->cloudpathlib[all]>=0.7.1->ppx) (4.9)\n",
      "Requirement already satisfied: pycparser in ./env/lib/python3.10/site-packages (from cffi>=1.12->cryptography>=2.1.4->azure-storage-blob>=12->cloudpathlib>=0.7.1->cloudpathlib[all]>=0.7.1->ppx) (2.22)\n",
      "Requirement already satisfied: pyasn1<0.7.0,>=0.4.6 in ./env/lib/python3.10/site-packages (from pyasn1-modules>=0.2.1->google-auth<3.0dev,>=2.26.1->google-cloud-storage->cloudpathlib>=0.7.1->cloudpathlib[all]>=0.7.1->ppx) (0.6.0)\n"
     ]
    }
   ],
   "source": [
    "%%bash\n",
    "pip install polars lightning seaborn torchmetrics ppx xgboost scikit-learn depthcharge-ms"
   ]
  },
  {
   "cell_type": "markdown",
   "id": "ee958282-10b1-483d-9a1e-00cf586ededf",
   "metadata": {},
   "source": [
    "Then we download Sage for our database search:"
   ]
  },
  {
   "cell_type": "code",
   "execution_count": 2,
   "id": "f0b0692f-e9e7-4a6a-ba79-3ea5d5e9b5e8",
   "metadata": {
    "scrolled": true
   },
   "outputs": [],
   "source": [
    "%%bash\n",
    "curl -sL https://github.com/lazear/sage/releases/download/v0.14.7/sage-v0.14.7-x86_64-unknown-linux-gnu.tar.gz \\\n",
    "    | tar xz \\\n",
    "    && mv */sage ./sage\n",
    "\n",
    "#./sage --help"
   ]
  },
  {
   "cell_type": "markdown",
   "id": "5445c8f1-fd90-4775-882c-7055b837b0ed",
   "metadata": {},
   "source": [
    "Finally, we download the UniProt canonical human proteome FASTA for our database search:"
   ]
  },
  {
   "cell_type": "code",
   "execution_count": 3,
   "id": "fba4c4b5-c797-4cff-873a-b536fcb7f70f",
   "metadata": {},
   "outputs": [
    {
     "name": "stdout",
     "output_type": "stream",
     "text": [
      ">sp|A0A087X1C5|CP2D7_HUMAN Putative cytochrome P450 2D7 OS=Homo sapiens OX=9606 GN=CYP2D7 PE=5 SV=1\n",
      "MGLEALVPLAMIVAIFLLLVDLMHRHQRWAARYPPGPLPLPGLGNLLHVDFQNTPYCFDQ\n",
      "LRRRFGDVFSLQLAWTPVVVLNGLAAVREAMVTRGEDTADRPPAPIYQVLGFGPRSQGVI\n",
      "LSRYGPAWREQRRFSVSTLRNLGLGKKSLEQWVTEEAACLCAAFADQAGRPFRPNGLLDK\n",
      "AVSNVIASLTCGRRFEYDDPRFLRLLDLAQEGLKEESGFLREVLNAVPVLPHIPALAGKV\n",
      "LRFQKAFLTQLDELLTEHRMTWDPAQPPRDLTEAFLAKKEKAKGSPESSFNDENLRIVVG\n",
      "NLFLAGMVTTSTTLAWGLLLMILHLDVQRGRRVSPGCPIVGTHVCPVRVQQEIDDVIGQV\n",
      "RRPEMGDQAHMPCTTAVIHEVQHFGDIVPLGVTHMTSRDIEVQGFRIPKGTTLITNLSSV\n",
      "LKDEAVWKKPFRFHPEHFLDAQGHFVKPEAFLPFSAGRRACLGEPLARMELFLFFTSLLQ\n",
      "HFSFSVAAGQPRPSHSRVVSFLVTPSPYELCAVPR\n"
     ]
    }
   ],
   "source": [
    "%%bash\n",
    "curl -sL \"https://rest.uniprot.org/uniprotkb/stream?compressed=true&format=fasta&query=%28%28proteome%3AUP000005640%29+AND+reviewed%3Dtrue%29\" \\\n",
    "    | gunzip -c > human.fasta\n",
    "\n",
    "head human.fasta"
   ]
  },
  {
   "cell_type": "markdown",
   "id": "5737323c-0b7c-45ed-bd91-fde09f500dd0",
   "metadata": {},
   "source": [
    "## Load Libraries\n",
    "\n",
    "Now we load all of the libraries we'll need to generate our datasets, train a model, and plot our results."
   ]
  },
  {
   "cell_type": "code",
   "execution_count": 1,
   "id": "aecd6501-899a-4f63-b0cc-c80e634d6344",
   "metadata": {},
   "outputs": [],
   "source": [
    "import json\n",
    "from pathlib import Path\n",
    "\n",
    "import torch\n",
    "import torch.nn as nn\n",
    "import torch.nn.functional as F\n",
    "import polars as pl\n",
    "import ppx\n",
    "import depthcharge as dc\n",
    "import matplotlib.pyplot as plt\n",
    "import seaborn as sns\n",
    "import sklearn\n",
    "import lightning as L\n",
    "\n",
    "from depthcharge.data import SpectrumDataset\n",
    "from depthcharge.transformers import SpectrumTransformerEncoder\n",
    "from depthcharge.feedforward import FeedForward\n",
    "from ppx import MassiveProject\n",
    "from torch.utils.data import DataLoader\n",
    "from lightning.pytorch import LightningModule, Trainer\n",
    "from lightning.pytorch.loggers import CSVLogger\n",
    "from torchmetrics.classification import BinaryAUROC\n",
    "from lance.sampler import ShardedBatchSampler\n",
    "from xgboost import XGBClassifier\n",
    "\n",
    "Path(\"logs\").mkdir(exist_ok=True)\n",
    "Path(\"data\").mkdir(exist_ok=True)\n",
    "ppx.set_data_dir(\"data\")\n",
    "\n",
    "L.pytorch.utilities.disable_possible_user_warnings()"
   ]
  },
  {
   "cell_type": "markdown",
   "id": "7c2e92ee-8006-469e-a07c-aa4ba8581641",
   "metadata": {},
   "source": [
    "## Create Our Datasets\n",
    "\n",
    "We'll now download a random subset of mzML files used to create MassIVE-KB, and search them using Sage. \n",
    "The spectra identified by Sage at 1% FDR will be our positive examples, whereas the rest will be our negative examples.\n",
    "\n",
    "First we select random files for our train, test, and validation splits from the subset of MassIVE-KB from high-resolution instruments with HCD fragmentation: "
   ]
  },
  {
   "cell_type": "code",
   "execution_count": 2,
   "id": "96e8b5c1-64a3-45ce-8c80-311945748333",
   "metadata": {},
   "outputs": [],
   "source": [
    "n_train = 1\n",
    "n_valid = 1\n",
    "n_test = 1\n",
    "\n",
    "mskb_files = (\n",
    "    pl.read_csv(\n",
    "        \"https://raw.githubusercontent.com/wfondrie/2024_depthcharge-demos/\"\n",
    "        \"main/data/massivekb_v2.0.15-hcd-files.tsv\",\n",
    "        separator=\"\\t\",\n",
    "    )\n",
    "    .select(\n",
    "        pl.col(\"spectrum_filename\").\n",
    "        str.splitn(\"/\", 2)\n",
    "        .struct.rename_fields([\"acc\", \"file\"])\n",
    "    )\n",
    "    .unnest(\"spectrum_filename\")\n",
    "    .sample(fraction=1, seed=1)\n",
    "    .group_by(\"acc\", maintain_order=True)\n",
    "    .head(1)\n",
    "    .sample(fraction=1, seed=1)\n",
    "    .rows()\n",
    ")\n",
    "\n",
    "train_remote_files = mskb_files[:n_train]\n",
    "valid_remote_files = mskb_files[n_train:(n_train + n_valid)]\n",
    "test_remote_files = mskb_files[(n_train + n_valid):(n_train + n_valid + n_test)]"
   ]
  },
  {
   "cell_type": "markdown",
   "id": "bac625c1-400d-43b6-a494-8ead6fcab9ef",
   "metadata": {},
   "source": [
    "Now we need to download all of the files:"
   ]
  },
  {
   "cell_type": "code",
   "execution_count": 3,
   "id": "a46c2a1e-8546-4b18-a0be-1f66614561c9",
   "metadata": {},
   "outputs": [],
   "source": [
    "mzml_files = []\n",
    "for split in (train_remote_files, valid_remote_files, test_remote_files):\n",
    "    split_files = []\n",
    "    for acc, fname in split:\n",
    "        proj = MassiveProject(acc)\n",
    "        loc = proj.local_files(fname)\n",
    "        if not loc:\n",
    "            loc = proj.download(fname)\n",
    "            \n",
    "        split_files.append(str(loc[0]))\n",
    "\n",
    "    mzml_files.append(split_files)\n",
    "\n",
    "mzml_files = {k: f for k, f in zip([\"train\", \"valid\", \"test\"], mzml_files)}"
   ]
  },
  {
   "cell_type": "markdown",
   "id": "84a33633-e8bb-40a4-9e46-7befcb15641e",
   "metadata": {},
   "source": [
    "Now we perform a database search with Sage using generic high-resolution parameters:"
   ]
  },
  {
   "cell_type": "code",
   "execution_count": 4,
   "id": "0e68f89d-9e79-4805-b317-4e75cc3c7627",
   "metadata": {},
   "outputs": [],
   "source": [
    "sage_config = {\n",
    "    \"database\": {\"bucket_size\": 8192, \"fasta\": \"human.fasta\"},\n",
    "    \"precursor_tol\": {\"da\": [-500, 500]},\n",
    "    \"fragment_tol\": {\"ppm\": [-10, 10]},\n",
    "    \"static_mods\": {\"C\": 57.0215},\n",
    "    \"variable_mods\": {\"M\": [15.9949]},\n",
    "}\n",
    "\n",
    "with Path(\"sage.json\").open(\"w+\") as cfg:\n",
    "    json.dump(sage_config, cfg)\n",
    "\n",
    "search_results = {}\n",
    "for split, split_files in mzml_files.items():\n",
    "    search_results[split] = Path(f\"{split}/results.sage.parquet\")\n",
    "    if not search_results[split].exists():\n",
    "        print(f\"Searching {split} (this may take a few minutes...\")\n",
    "        !./sage --parquet --output_directory {split} sage.json {\" \".join(split_files)} 2> logs/{split}.log 1> /dev/null"
   ]
  },
  {
   "cell_type": "markdown",
   "id": "401383f8-ddc8-489c-a596-2c3d76db5960",
   "metadata": {},
   "source": [
    "Finally, we can assemble our Depthcharge datasets for training and validation. However, we'll wait to assemble our test set until the very end, after all model training has been performed."
   ]
  },
  {
   "cell_type": "code",
   "execution_count": 5,
   "id": "469c73d8-eff9-4366-b840-a887de7d83e7",
   "metadata": {},
   "outputs": [
    {
     "name": "stdout",
     "output_type": "stream",
     "text": [
      "Creating the train dataset...\n",
      "10000\n"
     ]
    },
    {
     "data": {
      "application/vnd.jupyter.widget-view+json": {
       "model_id": "f896c7dc21a947c79d349e71604448e7",
       "version_major": 2,
       "version_minor": 0
      },
      "text/plain": [
       "3B10-1.mzML:   0%|          | 0/26981 [00:00<?, ? spectra/s]"
      ]
     },
     "metadata": {},
     "output_type": "display_data"
    },
    {
     "name": "stdout",
     "output_type": "stream",
     "text": [
      "Creating the valid dataset...\n",
      "0\n"
     ]
    },
    {
     "data": {
      "application/vnd.jupyter.widget-view+json": {
       "model_id": "afc618f84f5b4bbe8a25d0de4ad557d4",
       "version_major": 2,
       "version_minor": 0
      },
      "text/plain": [
       "CHPP_97H_RP10_1.mzML:   0%|          | 0/21803 [00:00<?, ? spectra/s]"
      ]
     },
     "metadata": {},
     "output_type": "display_data"
    }
   ],
   "source": [
    "datasets = {}\n",
    "for split, batch_size in [(\"train\", 32), (\"valid\", 128)]:\n",
    "    print(f\"Creating the {split} dataset...\")\n",
    "    label_df = (\n",
    "        pl.scan_parquet(search_results[split])\n",
    "        .filter(pl.col(\"spectrum_q\") <= 0.01)\n",
    "        .select(\n",
    "            \"filename\",\n",
    "            pl.col(\"scannr\").str.extract(\"scan=(.*)\").cast(pl.Int64)\n",
    "        )\n",
    "        .rename({\"filename\": \"peak_file\", \"scannr\": \"scan_id\"})\n",
    "        .with_columns(pl.lit(True).alias(\"label\"))\n",
    "        .collect()\n",
    "    )\n",
    "\n",
    "    print(10000 if split == \"train\" else 0)\n",
    "    datasets[split] = SpectrumDataset(\n",
    "        mzml_files[split],\n",
    "        batch_size=batch_size,\n",
    "        path=f\"{split}.lance\", \n",
    "        parse_kwargs={\"metadata_df\": label_df},\n",
    "        with_row_id=False,\n",
    "        samples=10000 if split == \"train\" else 0, # 100K random batches / epoch.\n",
    "    )"
   ]
  },
  {
   "cell_type": "markdown",
   "id": "e245e218-dd26-4310-a305-b80bc95777d6",
   "metadata": {},
   "source": [
    "## Create a Transformer Model\n",
    "\n",
    "We will train a Transformer encoder model to predict the \"quality\" of each mass spectrum. \n",
    "Here, we create a PyTorch Lightning module using modules from Depthcharge to build our complete model.\n",
    "For the loss function, we will use binary cross-entropy loss and we'll use Adam as our optimizer."
   ]
  },
  {
   "cell_type": "code",
   "execution_count": 6,
   "id": "59c1869a-99a7-4a62-83e2-05328301da2d",
   "metadata": {},
   "outputs": [],
   "source": [
    "class SpectrumClassifier(L.LightningModule):\n",
    "    \"\"\"A model for clssifying mass spectra by quality.\"\"\"\n",
    "    def __init__(self, d_model=128):\n",
    "        \"\"\"Initialize the model.\"\"\"\n",
    "        super().__init__()\n",
    "        self.encoder = SpectrumTransformerEncoder(d_model, n_layers=3)\n",
    "        self.seqpool = nn.Sequential(nn.Linear(d_model, 1), nn.Softmax())\n",
    "        self.head = FeedForward(d_model, 1, layers=3, append=nn.Sigmoid())\n",
    "        self.auroc = BinaryAUROC()\n",
    "    \n",
    "    def forward(self, X):\n",
    "        \"\"\"The forward pass.\"\"\"\n",
    "        emb = self.encoder(**X)[0]\n",
    "        pooled = torch.bmm(self.seqpool(emb).permute(0, 2, 1), emb)\n",
    "        return self.head(pooled.squeeze())\n",
    "\n",
    "    def step(self, batch, step_type):\n",
    "        \"\"\"A single step\"\"\"\n",
    "        Y = batch[\"label\"].type_as(batch[\"mz_array\"])\n",
    "        Y_hat = self(batch).flatten()\n",
    "        loss = F.binary_cross_entropy(Y_hat, Y)\n",
    "        self.log(f\"{step_type}_loss\", loss.item(), on_step=False, on_epoch=True, prog_bar=True, logger=True)\n",
    "        if step_type == \"valid\":\n",
    "            self.auroc(Y_hat, Y)\n",
    "            self.log(f\"{step_type}_auroc\", self.auroc, on_step=False, on_epoch=True, prog_bar=True, logger=True)\n",
    "        return loss\n",
    "    \n",
    "    def training_step(self, batch, batch_idx):\n",
    "        \"\"\"The training step.\"\"\"\n",
    "        return self.step(batch, \"train\")\n",
    "\n",
    "    def validation_step(self, batch, batch_idx):\n",
    "        \"\"\"The validation step.\"\"\"\n",
    "        return self.step(batch, \"valid\")\n",
    "\n",
    "    def predict_step(self, batch, batch_idx):\n",
    "        \"\"\"The predict step.\"\"\"\n",
    "        return self(batch)\n",
    "\n",
    "    def configure_optimizers(self):\n",
    "        \"\"\"Configure optimizers for training.\"\"\"\n",
    "        optimizer = torch.optim.Adam(self.parameters(), lr=1e-5)\n",
    "        return optimizer"
   ]
  },
  {
   "cell_type": "markdown",
   "id": "9427d728-e016-4140-a780-eb691a305ec9",
   "metadata": {},
   "source": [
    "## Fit Our Model"
   ]
  },
  {
   "cell_type": "code",
   "execution_count": 13,
   "id": "4c4e8675-cf8f-49a2-979b-1c80e9eb66db",
   "metadata": {},
   "outputs": [
    {
     "name": "stderr",
     "output_type": "stream",
     "text": [
      "GPU available: True (mps), used: True\n",
      "TPU available: False, using: 0 TPU cores\n",
      "IPU available: False, using: 0 IPUs\n",
      "HPU available: False, using: 0 HPUs\n",
      "/Users/wfondrie/proj/2024_depthcharge-demos/notebooks/spectrum-quality/env/lib/python3.10/site-packages/lightning/fabric/loggers/csv_logs.py:268: Experiment logs directory logs/model/version_0 exists and is not empty. Previous log files in this directory will be deleted when the new ones are saved!\n",
      "/Users/wfondrie/proj/2024_depthcharge-demos/notebooks/spectrum-quality/env/lib/python3.10/site-packages/lightning/pytorch/callbacks/model_checkpoint.py:653: Checkpoint directory logs/model/version_0/checkpoints exists and is not empty.\n",
      "\n",
      "  | Name    | Type                       | Params\n",
      "-------------------------------------------------------\n",
      "0 | encoder | SpectrumTransformerEncoder | 1.0 M \n",
      "1 | seqpool | Sequential                 | 129   \n",
      "2 | head    | FeedForward                | 15.0 K\n",
      "3 | auroc   | BinaryAUROC                | 0     \n",
      "-------------------------------------------------------\n",
      "1.0 M     Trainable params\n",
      "0         Non-trainable params\n",
      "1.0 M     Total params\n",
      "4.150     Total estimated model params size (MB)\n"
     ]
    },
    {
     "data": {
      "application/vnd.jupyter.widget-view+json": {
       "model_id": "",
       "version_major": 2,
       "version_minor": 0
      },
      "text/plain": [
       "Sanity Checking: |                                                                                            …"
      ]
     },
     "metadata": {},
     "output_type": "display_data"
    },
    {
     "name": "stderr",
     "output_type": "stream",
     "text": [
      "/Users/wfondrie/proj/2024_depthcharge-demos/notebooks/spectrum-quality/env/lib/python3.10/site-packages/lightning/pytorch/utilities/data.py:121: Your `IterableDataset` has `__len__` defined. In combination with multi-process data loading (when num_workers > 1), `__len__` could be inaccurate if each worker is not configured independently to avoid having duplicate data.\n",
      "/Users/wfondrie/proj/2024_depthcharge-demos/notebooks/spectrum-quality/env/lib/python3.10/site-packages/torch/nn/modules/module.py:1532: UserWarning: Implicit dimension choice for softmax has been deprecated. Change the call to include dim=X as an argument.\n",
      "  return self._call_impl(*args, **kwargs)\n"
     ]
    },
    {
     "data": {
      "application/vnd.jupyter.widget-view+json": {
       "model_id": "d7718ffef2004c14af4b259def144fb8",
       "version_major": 2,
       "version_minor": 0
      },
      "text/plain": [
       "Training: |                                                                                                   …"
      ]
     },
     "metadata": {},
     "output_type": "display_data"
    },
    {
     "name": "stderr",
     "output_type": "stream",
     "text": [
      "`Trainer.fit` stopped: `max_epochs=20` reached.\n"
     ]
    }
   ],
   "source": [
    "train_loader = DataLoader(datasets[\"train\"], batch_size=None)\n",
    "valid_loader = DataLoader(datasets[\"valid\"], batch_size=None)\n",
    "logger = CSVLogger(\"logs\", \"model\", version=0)\n",
    "trainer = L.Trainer(max_epochs=20, logger=logger)\n",
    "\n",
    "model = SpectrumClassifier()\n",
    "trainer.fit(model, train_loader, valid_loader)"
   ]
  },
  {
   "cell_type": "code",
   "execution_count": 14,
   "id": "1a414229-c3d6-4e66-a283-f1814fa63a5d",
   "metadata": {},
   "outputs": [
    {
     "data": {
      "image/png": "[encoded data removed]",
      "text/plain": [
       "<Figure size 800x300 with 2 Axes>"
      ]
     },
     "metadata": {},
     "output_type": "display_data"
    }
   ],
   "source": [
    "metrics = (\n",
    "    pl.read_csv(\"logs/model/version_0/metrics.csv\")\n",
    "    .melt([\"epoch\", \"step\"], variable_name=\"metric\")\n",
    "    .drop_nulls()\n",
    ")\n",
    "\n",
    "losses = metrics.filter(pl.col(\"metric\").str.contains(\"_loss\"))\n",
    "auroc = metrics.filter(pl.col(\"metric\") == \"valid_auroc\")\n",
    "\n",
    "fig, axs = plt.subplots(1, 2, figsize=(8, 3))\n",
    "sns.lineplot(data=losses, x=\"epoch\", y=\"value\", hue=\"metric\", ax=axs[0])\n",
    "axs[0].set_ylabel(\"BCE Loss\")\n",
    "axs[0].set_xlabel(\"Epoch\")\n",
    "axs[0].legend(labels=[\"Train\", \"Validation\"])\n",
    "\n",
    "sns.lineplot(data=auroc, x=\"epoch\", y=\"value\", ax=axs[1])\n",
    "axs[1].set_ylabel(\"Validation AUROC\")\n",
    "axs[1].set_xlabel(\"Epoch\")\n",
    "\n",
    "plt.tight_layout()\n",
    "plt.show()"
   ]
  },
  {
   "cell_type": "markdown",
   "id": "26240162-abbd-4b41-af46-8c65c9ebb878",
   "metadata": {},
   "source": [
    "## Create a baseline model"
   ]
  },
  {
   "cell_type": "code",
   "execution_count": 15,
   "id": "305bd026-42f7-45c5-a65e-62b53898e449",
   "metadata": {},
   "outputs": [],
   "source": [
    "n_bins = 100\n",
    "max_mz = 2000\n",
    "min_mz = 140\n",
    "\n",
    "def bin_spectra(batch, n_bins=100, min_mz=140, max_mz=2000):\n",
    "    \"\"\"Bin mass spectra.\n",
    "\n",
    "    Parameters\n",
    "    ----------\n",
    "    batch : dict of torch.Tensor\n",
    "        The batch of data.\n",
    "    n_bins : int\n",
    "        The number of bins.\n",
    "    min_mz : float\n",
    "        The lowest m/z bin.\n",
    "    max_mz : float\n",
    "        The highest m/z bin.\n",
    "   \n",
    "    Returns\n",
    "    -------\n",
    "    torch.Tensor\n",
    "        The batch of binned mass spectra.\n",
    "    \"\"\"\n",
    "    bins = torch.linspace(min_mz, max_mz, n_bins - 1)\n",
    "    out = torch.empty(batch[\"mz_array\"].shape[0], n_bins)\n",
    "    binned = torch.bucketize(batch[\"mz_array\"], bins)\n",
    "    for i in range(out.shape[0]):\n",
    "        out[i, :] = torch.bincount(\n",
    "            binned[i, :], \n",
    "            weights=batch[\"intensity_array\"][i, :], \n",
    "            minlength=n_bins,\n",
    "        )\n",
    "\n",
    "    return out\n",
    "\n",
    "\n",
    "X_train, y_train = zip(*[(bin_spectra(b), b[\"label\"]) for b in train_loader])\n",
    "X_train = torch.vstack(X_train).detach().cpu().numpy()\n",
    "y_train = torch.cat(y_train).detach().cpu().numpy()\n",
    "\n",
    "\n",
    "\n",
    "xgb = XGBClassifier().fit(X_train, y_train)"
   ]
  },
  {
   "cell_type": "markdown",
   "id": "570ebe40-d7e6-4dbe-a136-b37ff2c9deb1",
   "metadata": {},
   "source": [
    "## Evaluate the Models"
   ]
  },
  {
   "cell_type": "code",
   "execution_count": 16,
   "id": "28a4a315-3100-4bc6-b336-93efbe153368",
   "metadata": {},
   "outputs": [],
   "source": [
    "X_test, y_test = zip(*[(bin_spectra(b), b[\"label\"]) for b in valid_loader])\n",
    "X_test = torch.vstack(X_test).detach().cpu().numpy()\n",
    "y_test = torch.cat(y_test).detach().cpu().numpy()\n",
    "\n",
    "baseline = xgb.predict_proba(X_test)[:, 1]"
   ]
  },
  {
   "cell_type": "code",
   "execution_count": 17,
   "id": "aa69b4a2-26b0-4a75-aa6f-120c87f6c3c5",
   "metadata": {
    "scrolled": true
   },
   "outputs": [
    {
     "name": "stderr",
     "output_type": "stream",
     "text": [
      "/Users/wfondrie/proj/2024_depthcharge-demos/notebooks/spectrum-quality/env/lib/python3.10/site-packages/lightning/pytorch/utilities/data.py:121: Your `IterableDataset` has `__len__` defined. In combination with multi-process data loading (when num_workers > 1), `__len__` could be inaccurate if each worker is not configured independently to avoid having duplicate data.\n"
     ]
    },
    {
     "data": {
      "application/vnd.jupyter.widget-view+json": {
       "model_id": "2803321492a848579f67f5e957b43279",
       "version_major": 2,
       "version_minor": 0
      },
      "text/plain": [
       "Predicting: |                                                                                                 …"
      ]
     },
     "metadata": {},
     "output_type": "display_data"
    },
    {
     "name": "stderr",
     "output_type": "stream",
     "text": [
      "/Users/wfondrie/proj/2024_depthcharge-demos/notebooks/spectrum-quality/env/lib/python3.10/site-packages/torch/nn/modules/module.py:1532: UserWarning: Implicit dimension choice for softmax has been deprecated. Change the call to include dim=X as an argument.\n",
      "  return self._call_impl(*args, **kwargs)\n"
     ]
    }
   ],
   "source": [
    "pred = trainer.predict(model, valid_loader)\n",
    "pred = torch.vstack(pred).flatten().detach().cpu().numpy()"
   ]
  },
  {
   "cell_type": "code",
   "execution_count": 18,
   "id": "49925206-f3e0-4521-8396-2570310fd3a6",
   "metadata": {},
   "outputs": [
    {
     "data": {
      "image/png": "[encoded data removed]",
      "text/plain": [
       "<Figure size 640x480 with 1 Axes>"
      ]
     },
     "metadata": {},
     "output_type": "display_data"
    }
   ],
   "source": [
    "baseline_fpr, baseline_tpr, _ = sklearn.metrics.roc_curve(y_test, baseline)\n",
    "pred_fpr, pred_tpr, _ = sklearn.metrics.roc_curve(y_test, pred)\n",
    "\n",
    "plt.figure()\n",
    "plt.step(pred_fpr, pred_tpr, where=\"pre\", label=\"Depthcharge Transformer\")\n",
    "plt.step(baseline_fpr, baseline_tpr, where=\"pre\", label=\"XGBoost Baseline\")\n",
    "plt.legend()\n",
    "plt.show()"
   ]
  },
  {
   "cell_type": "code",
   "execution_count": null,
   "id": "8353083a-99aa-434f-a014-83b45fa333db",
   "metadata": {},
   "outputs": [],
   "source": []
  }
 ],
 "metadata": {
  "kernelspec": {
   "display_name": "Python 3 (ipykernel)",
   "language": "python",
   "name": "python3"
  },
  "language_info": {
   "codemirror_mode": {
    "name": "ipython",
    "version": 3
   },
   "file_extension": ".py",
   "mimetype": "text/x-python",
   "name": "python",
   "nbconvert_exporter": "python",
   "pygments_lexer": "ipython3",
   "version": "3.10.14"
  }
 },
 "nbformat": 4,
 "nbformat_minor": 5
}
